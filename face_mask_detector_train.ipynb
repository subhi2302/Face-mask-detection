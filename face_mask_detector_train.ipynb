{
 "cells": [
  {
   "cell_type": "code",
   "execution_count": 2,
   "id": "3ecea580",
   "metadata": {},
   "outputs": [],
   "source": [
    "from tensorflow.keras.preprocessing.image import ImageDataGenerator\n",
    "from tensorflow.keras.applications import MobileNetV2\n",
    "from tensorflow.keras.layers import AveragePooling2D\n",
    "from tensorflow.keras.layers import Dropout\n",
    "from tensorflow.keras.layers import Flatten\n",
    "from tensorflow.keras.layers import Dense\n",
    "from tensorflow.keras.layers import Input\n",
    "from tensorflow.keras.models import Model\n",
    "from tensorflow.keras.optimizers import Adam\n",
    "from tensorflow.keras.applications.mobilenet_v2 import preprocess_input\n",
    "from tensorflow.keras.preprocessing.image import img_to_array\n",
    "from tensorflow.keras.preprocessing.image import load_img\n",
    "from tensorflow.keras.utils import to_categorical\n",
    "from sklearn.preprocessing import LabelBinarizer\n",
    "from sklearn.model_selection import train_test_split\n",
    "from sklearn.metrics import classification_report\n",
    "from imutils import paths\n",
    "import matplotlib.pyplot as plt\n",
    "import numpy as np\n",
    "import os"
   ]
  },
  {
   "cell_type": "code",
   "execution_count": 3,
   "id": "8a3b709c",
   "metadata": {},
   "outputs": [],
   "source": [
    "INIT_LR = 1e-4\n",
    "EPOCHS = 20\n",
    "BS = 32"
   ]
  },
  {
   "cell_type": "code",
   "execution_count": 4,
   "id": "26d59c4f",
   "metadata": {},
   "outputs": [],
   "source": [
    "DIRECTORY = r\"C:\\Python37\\Projects\\Face-Mask-Detection-master\\dataset\\Train\"\n",
    "CATEGORIES = [\"Mask\", \"Non Mask\"]"
   ]
  },
  {
   "cell_type": "code",
   "execution_count": 6,
   "id": "69dcace9",
   "metadata": {},
   "outputs": [],
   "source": [
    "data = []\n",
    "labels = []"
   ]
  },
  {
   "cell_type": "code",
   "execution_count": 7,
   "id": "08558595",
   "metadata": {},
   "outputs": [],
   "source": [
    "for category in CATEGORIES:\n",
    "    path = os.path.join(DIRECTORY, category)\n",
    "    for img in os.listdir(path):\n",
    "    \timg_path = os.path.join(path, img)\n",
    "    \timage = load_img(img_path, target_size=(224, 224))\n",
    "    \timage = img_to_array(image)\n",
    "    \timage = preprocess_input(image)\n",
    "\n",
    "    \tdata.append(image)\n",
    "    \tlabels.append(category)"
   ]
  },
  {
   "cell_type": "code",
   "execution_count": 8,
   "id": "c5105af0",
   "metadata": {},
   "outputs": [],
   "source": [
    "lb = LabelBinarizer()\n",
    "labels = lb.fit_transform(labels)\n",
    "labels = to_categorical(labels)"
   ]
  },
  {
   "cell_type": "code",
   "execution_count": 9,
   "id": "6ee37491",
   "metadata": {},
   "outputs": [],
   "source": [
    "data = np.array(data, dtype=\"float32\")\n",
    "labels = np.array(labels)"
   ]
  },
  {
   "cell_type": "code",
   "execution_count": 10,
   "id": "bbd4b658",
   "metadata": {},
   "outputs": [],
   "source": [
    "(trainX, testX, trainY, testY) = train_test_split(data, labels,\n",
    "\ttest_size=0.20, stratify=labels, random_state=42)"
   ]
  },
  {
   "cell_type": "code",
   "execution_count": 11,
   "id": "1aa8a02f",
   "metadata": {},
   "outputs": [],
   "source": [
    "aug = ImageDataGenerator(\n",
    "\trotation_range=20,\n",
    "\tzoom_range=0.15,\n",
    "\twidth_shift_range=0.2,\n",
    "\theight_shift_range=0.2,\n",
    "\tshear_range=0.15,\n",
    "\thorizontal_flip=True,\n",
    "\tfill_mode=\"nearest\")"
   ]
  },
  {
   "cell_type": "code",
   "execution_count": 12,
   "id": "5f3d8d95",
   "metadata": {},
   "outputs": [
    {
     "name": "stdout",
     "output_type": "stream",
     "text": [
      "WARNING:tensorflow:`input_shape` is undefined or non-square, or `rows` is not in [96, 128, 160, 192, 224]. Weights for input shape (224, 224) will be loaded as the default.\n"
     ]
    }
   ],
   "source": [
    "baseModel = MobileNetV2(weights=\"imagenet\", include_top=False,\n",
    "\tinput_tensor=Input(shape=(224, 224, 3)))"
   ]
  },
  {
   "cell_type": "code",
   "execution_count": 13,
   "id": "dde420fa",
   "metadata": {},
   "outputs": [],
   "source": [
    "headModel = baseModel.output\n",
    "headModel = AveragePooling2D(pool_size=(7, 7))(headModel)\n",
    "headModel = Flatten(name=\"flatten\")(headModel)\n",
    "headModel = Dense(128, activation=\"relu\")(headModel)\n",
    "headModel = Dropout(0.5)(headModel)\n",
    "headModel = Dense(2, activation=\"softmax\")(headModel)"
   ]
  },
  {
   "cell_type": "code",
   "execution_count": 14,
   "id": "4d619091",
   "metadata": {},
   "outputs": [],
   "source": [
    "model = Model(inputs=baseModel.input, outputs=headModel)"
   ]
  },
  {
   "cell_type": "code",
   "execution_count": 15,
   "id": "1d1e97f8",
   "metadata": {},
   "outputs": [],
   "source": [
    "for layer in baseModel.layers:\n",
    "\tlayer.trainable = False"
   ]
  },
  {
   "cell_type": "code",
   "execution_count": 16,
   "id": "53dc1802",
   "metadata": {},
   "outputs": [
    {
     "name": "stderr",
     "output_type": "stream",
     "text": [
      "C:\\Users\\12200\\AppData\\Roaming\\Python\\Python38\\site-packages\\keras\\optimizer_v2\\optimizer_v2.py:355: UserWarning: The `lr` argument is deprecated, use `learning_rate` instead.\n",
      "  warnings.warn(\n"
     ]
    }
   ],
   "source": [
    "opt = Adam(lr=INIT_LR, decay=INIT_LR / EPOCHS)\n",
    "model.compile(loss=\"binary_crossentropy\", optimizer=opt,\n",
    "\tmetrics=[\"accuracy\"])"
   ]
  },
  {
   "cell_type": "code",
   "execution_count": 17,
   "id": "f83c123a",
   "metadata": {},
   "outputs": [
    {
     "name": "stdout",
     "output_type": "stream",
     "text": [
      "[INFO] training head...\n",
      "Epoch 1/20\n",
      "15/15 [==============================] - 19s 1s/step - loss: 0.7589 - accuracy: 0.6021 - val_loss: 0.5029 - val_accuracy: 0.8833\n",
      "Epoch 2/20\n",
      "15/15 [==============================] - 14s 961ms/step - loss: 0.5179 - accuracy: 0.8083 - val_loss: 0.3560 - val_accuracy: 0.9500\n",
      "Epoch 3/20\n",
      "15/15 [==============================] - 14s 951ms/step - loss: 0.3993 - accuracy: 0.8771 - val_loss: 0.2658 - val_accuracy: 0.9583\n",
      "Epoch 4/20\n",
      "15/15 [==============================] - 15s 973ms/step - loss: 0.2952 - accuracy: 0.9271 - val_loss: 0.2043 - val_accuracy: 0.9667\n",
      "Epoch 5/20\n",
      "15/15 [==============================] - 21s 1s/step - loss: 0.2220 - accuracy: 0.9500 - val_loss: 0.1645 - val_accuracy: 0.9667\n",
      "Epoch 6/20\n",
      "15/15 [==============================] - 69s 5s/step - loss: 0.1951 - accuracy: 0.9479 - val_loss: 0.1361 - val_accuracy: 0.9667\n",
      "Epoch 7/20\n",
      "15/15 [==============================] - 15s 974ms/step - loss: 0.1703 - accuracy: 0.9667 - val_loss: 0.1183 - val_accuracy: 0.9750\n",
      "Epoch 8/20\n",
      "15/15 [==============================] - 15s 1s/step - loss: 0.1457 - accuracy: 0.9667 - val_loss: 0.1016 - val_accuracy: 0.9750\n",
      "Epoch 9/20\n",
      "15/15 [==============================] - 15s 1s/step - loss: 0.1326 - accuracy: 0.9688 - val_loss: 0.0889 - val_accuracy: 0.9833\n",
      "Epoch 10/20\n",
      "15/15 [==============================] - 16s 1s/step - loss: 0.1181 - accuracy: 0.9792 - val_loss: 0.0815 - val_accuracy: 0.9833\n",
      "Epoch 11/20\n",
      "15/15 [==============================] - 16s 1s/step - loss: 0.1120 - accuracy: 0.9729 - val_loss: 0.0767 - val_accuracy: 0.9833\n",
      "Epoch 12/20\n",
      "15/15 [==============================] - 15s 1s/step - loss: 0.0910 - accuracy: 0.9854 - val_loss: 0.0676 - val_accuracy: 0.9833\n",
      "Epoch 13/20\n",
      "15/15 [==============================] - 16s 1s/step - loss: 0.0888 - accuracy: 0.9812 - val_loss: 0.0636 - val_accuracy: 0.9833\n",
      "Epoch 14/20\n",
      "15/15 [==============================] - 15s 1s/step - loss: 0.0894 - accuracy: 0.9771 - val_loss: 0.0588 - val_accuracy: 0.9833\n",
      "Epoch 15/20\n",
      "15/15 [==============================] - 15s 1s/step - loss: 0.0801 - accuracy: 0.9833 - val_loss: 0.0546 - val_accuracy: 0.9833\n",
      "Epoch 16/20\n",
      "15/15 [==============================] - 15s 992ms/step - loss: 0.0757 - accuracy: 0.9812 - val_loss: 0.0527 - val_accuracy: 0.9833\n",
      "Epoch 17/20\n",
      "15/15 [==============================] - 15s 1s/step - loss: 0.0689 - accuracy: 0.9854 - val_loss: 0.0495 - val_accuracy: 0.9833\n",
      "Epoch 18/20\n",
      "15/15 [==============================] - 15s 1s/step - loss: 0.0708 - accuracy: 0.9812 - val_loss: 0.0477 - val_accuracy: 0.9833\n",
      "Epoch 19/20\n",
      "15/15 [==============================] - 15s 992ms/step - loss: 0.0647 - accuracy: 0.9896 - val_loss: 0.0451 - val_accuracy: 0.9833\n",
      "Epoch 20/20\n",
      "15/15 [==============================] - 15s 1000ms/step - loss: 0.0476 - accuracy: 0.9937 - val_loss: 0.0430 - val_accuracy: 0.9833\n"
     ]
    }
   ],
   "source": [
    "print(\"[INFO] training head...\")\n",
    "H = model.fit(\n",
    "\taug.flow(trainX, trainY, batch_size=BS),\n",
    "\tsteps_per_epoch=len(trainX) // BS,\n",
    "\tvalidation_data=(testX, testY),\n",
    "\tvalidation_steps=len(testX) // BS,\n",
    "\tepochs=EPOCHS)"
   ]
  },
  {
   "cell_type": "code",
   "execution_count": 18,
   "id": "917eaf83",
   "metadata": {},
   "outputs": [
    {
     "name": "stdout",
     "output_type": "stream",
     "text": [
      "[INFO] evaluating network...\n"
     ]
    }
   ],
   "source": [
    "print(\"[INFO] evaluating network...\")\n",
    "predIdxs = model.predict(testX, batch_size=BS)"
   ]
  },
  {
   "cell_type": "code",
   "execution_count": 19,
   "id": "6d62576a",
   "metadata": {},
   "outputs": [],
   "source": [
    "predIdxs = np.argmax(predIdxs, axis=1)\n"
   ]
  },
  {
   "cell_type": "code",
   "execution_count": 20,
   "id": "073b5e57",
   "metadata": {},
   "outputs": [
    {
     "name": "stdout",
     "output_type": "stream",
     "text": [
      "              precision    recall  f1-score   support\n",
      "\n",
      "        Mask       0.97      1.00      0.98        60\n",
      "    Non Mask       1.00      0.97      0.98        60\n",
      "\n",
      "    accuracy                           0.98       120\n",
      "   macro avg       0.98      0.98      0.98       120\n",
      "weighted avg       0.98      0.98      0.98       120\n",
      "\n"
     ]
    }
   ],
   "source": [
    "print(classification_report(testY.argmax(axis=1), predIdxs,\n",
    "\ttarget_names=lb.classes_))"
   ]
  },
  {
   "cell_type": "code",
   "execution_count": 21,
   "id": "ec4502a3",
   "metadata": {},
   "outputs": [
    {
     "name": "stderr",
     "output_type": "stream",
     "text": [
      "C:\\Users\\12200\\AppData\\Roaming\\Python\\Python38\\site-packages\\keras\\utils\\generic_utils.py:494: CustomMaskWarning: Custom mask layers require a config and must override get_config. When loading, the custom mask layer must be passed to the custom_objects argument.\n",
      "  warnings.warn('Custom mask layers require a config and must override '\n"
     ]
    }
   ],
   "source": [
    "model.save(\"mask_detector.model\", save_format=\"h5\")"
   ]
  },
  {
   "cell_type": "code",
   "execution_count": 22,
   "id": "b097a47f",
   "metadata": {},
   "outputs": [
    {
     "data": {
      "image/png": "[encoded data removed]",
      "text/plain": [
       "<Figure size 432x288 with 1 Axes>"
      ]
     },
     "metadata": {},
     "output_type": "display_data"
    }
   ],
   "source": [
    "N = EPOCHS\n",
    "plt.style.use(\"ggplot\")\n",
    "plt.figure()\n",
    "plt.plot(np.arange(0, N), H.history[\"loss\"], label=\"train_loss\")\n",
    "plt.plot(np.arange(0, N), H.history[\"val_loss\"], label=\"val_loss\")\n",
    "plt.plot(np.arange(0, N), H.history[\"accuracy\"], label=\"train_acc\")\n",
    "plt.plot(np.arange(0, N), H.history[\"val_accuracy\"], label=\"val_acc\")\n",
    "plt.title(\"Training Loss and Accuracy\")\n",
    "plt.xlabel(\"Epoch #\")\n",
    "plt.ylabel(\"Loss/Accuracy\")\n",
    "plt.legend(loc=\"lower left\")\n",
    "plt.savefig(\"plot.png\")"
   ]
  },
  {
   "cell_type": "code",
   "execution_count": null,
   "id": "67569c6a",
   "metadata": {},
   "outputs": [],
   "source": []
  }
 ],
 "metadata": {
  "kernelspec": {
   "display_name": "Python 3",
   "language": "python",
   "name": "python3"
  },
  "language_info": {
   "codemirror_mode": {
    "name": "ipython",
    "version": 3
   },
   "file_extension": ".py",
   "mimetype": "text/x-python",
   "name": "python",
   "nbconvert_exporter": "python",
   "pygments_lexer": "ipython3",
   "version": "3.8.8"
  }
 },
 "nbformat": 4,
 "nbformat_minor": 5
}
